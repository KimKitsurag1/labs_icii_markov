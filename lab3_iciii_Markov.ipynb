{
 "cells": [
  {
   "cell_type": "markdown",
   "id": "a4614281",
   "metadata": {},
   "source": [
    "1. Воспроизводим пример из книги https://drive.google.com/file/d/18V_Af3NA7Lg73s8jmWUgBew88C0JjQHv/view?usp=sharing, из параграфов 14.2, 14.3 .\n",
    "\n",
    "Пример состоит в обучении модели классификации на основе алгоритма k-ближайших соседей"
   ]
  },
  {
   "cell_type": "code",
   "execution_count": 1,
   "id": "3c6e3195",
   "metadata": {},
   "outputs": [],
   "source": [
    "from sklearn.datasets import load_digits # импортируем датасет с рукописными цифрами"
   ]
  },
  {
   "cell_type": "code",
   "execution_count": 2,
   "id": "b1b53d24",
   "metadata": {},
   "outputs": [],
   "source": [
    "digits = load_digits() # загружаем датасет"
   ]
  },
  {
   "cell_type": "code",
   "execution_count": 3,
   "id": "023d0839",
   "metadata": {},
   "outputs": [
    {
     "name": "stdout",
     "output_type": "stream",
     "text": [
      ".. _digits_dataset:\n",
      "\n",
      "Optical recognition of handwritten digits dataset\n",
      "--------------------------------------------------\n",
      "\n",
      "**Data Set Characteristics:**\n",
      "\n",
      "    :Number of Instances: 1797\n",
      "    :Number of Attributes: 64\n",
      "    :Attribute Information: 8x8 image of integer pixels in the range 0..16.\n",
      "    :Missing Attribute Values: None\n",
      "    :Creator: E. Alpaydin (alpaydin '@' boun.edu.tr)\n",
      "    :Date: July; 1998\n",
      "\n",
      "This is a copy of the test set of the UCI ML hand-written digits datasets\n",
      "https://archive.ics.uci.edu/ml/datasets/Optical+Recognition+of+Handwritten+Digits\n",
      "\n",
      "The data set contains images of hand-written digits: 10 classes where\n",
      "each class refers to a digit.\n",
      "\n",
      "Preprocessing programs made available by NIST were used to extract\n",
      "normalized bitmaps of handwritten digits from a preprinted form. From a\n",
      "total of 43 people, 30 contributed to the training set and different 13\n",
      "to the test set. 32x32 bitmaps are divided into nonoverlapping blocks of\n",
      "4x4 and the number of on pixels are counted in each block. This generates\n",
      "an input matrix of 8x8 where each element is an integer in the range\n",
      "0..16. This reduces dimensionality and gives invariance to small\n",
      "distortions.\n",
      "\n",
      "For info on NIST preprocessing routines, see M. D. Garris, J. L. Blue, G.\n",
      "T. Candela, D. L. Dimmick, J. Geist, P. J. Grother, S. A. Janet, and C.\n",
      "L. Wilson, NIST Form-Based Handprint Recognition System, NISTIR 5469,\n",
      "1994.\n",
      "\n",
      ".. topic:: References\n",
      "\n",
      "  - C. Kaynak (1995) Methods of Combining Multiple Classifiers and Their\n",
      "    Applications to Handwritten Digit Recognition, MSc Thesis, Institute of\n",
      "    Graduate Studies in Science and Engineering, Bogazici University.\n",
      "  - E. Alpaydin, C. Kaynak (1998) Cascading Classifiers, Kybernetika.\n",
      "  - Ken Tang and Ponnuthurai N. Suganthan and Xi Yao and A. Kai Qin.\n",
      "    Linear dimensionalityreduction using relevance weighted LDA. School of\n",
      "    Electrical and Electronic Engineering Nanyang Technological University.\n",
      "    2005.\n",
      "  - Claudio Gentile. A New Approximate Maximal Margin Classification\n",
      "    Algorithm. NIPS. 2000.\n",
      "\n"
     ]
    }
   ],
   "source": [
    "print(digits.DESCR)"
   ]
  },
  {
   "cell_type": "markdown",
   "id": "beead041",
   "metadata": {},
   "source": [
    "Наблюдаем структуру данных"
   ]
  },
  {
   "cell_type": "code",
   "execution_count": 4,
   "id": "cd493973",
   "metadata": {},
   "outputs": [
    {
     "data": {
      "text/plain": [
       "array([0, 4, 1, 7, 4, 8, 2, 2, 4, 4, 1, 9, 7, 3, 2, 1, 2, 5])"
      ]
     },
     "execution_count": 4,
     "metadata": {},
     "output_type": "execute_result"
    }
   ],
   "source": [
    "digits.target[::100]"
   ]
  },
  {
   "cell_type": "code",
   "execution_count": 5,
   "id": "0b54841b",
   "metadata": {},
   "outputs": [
    {
     "data": {
      "text/plain": [
       "(1797, 64)"
      ]
     },
     "execution_count": 5,
     "metadata": {},
     "output_type": "execute_result"
    }
   ],
   "source": [
    "digits.data.shape"
   ]
  },
  {
   "cell_type": "code",
   "execution_count": 6,
   "id": "8aca63a5",
   "metadata": {},
   "outputs": [
    {
     "data": {
      "text/plain": [
       "(1797,)"
      ]
     },
     "execution_count": 6,
     "metadata": {},
     "output_type": "execute_result"
    }
   ],
   "source": [
    "digits.target.shape"
   ]
  },
  {
   "cell_type": "code",
   "execution_count": 7,
   "id": "a41d6e1b",
   "metadata": {},
   "outputs": [
    {
     "data": {
      "text/plain": [
       "array([[ 0.,  2.,  9., 15., 14.,  9.,  3.,  0.],\n",
       "       [ 0.,  4., 13.,  8.,  9., 16.,  8.,  0.],\n",
       "       [ 0.,  0.,  0.,  6., 14., 15.,  3.,  0.],\n",
       "       [ 0.,  0.,  0., 11., 14.,  2.,  0.,  0.],\n",
       "       [ 0.,  0.,  0.,  2., 15., 11.,  0.,  0.],\n",
       "       [ 0.,  0.,  0.,  0.,  2., 15.,  4.,  0.],\n",
       "       [ 0.,  1.,  5.,  6., 13., 16.,  6.,  0.],\n",
       "       [ 0.,  2., 12., 12., 13., 11.,  0.,  0.]])"
      ]
     },
     "execution_count": 7,
     "metadata": {},
     "output_type": "execute_result"
    }
   ],
   "source": [
    "digits.images[13]"
   ]
  },
  {
   "cell_type": "code",
   "execution_count": 38,
   "id": "62d18c8a",
   "metadata": {},
   "outputs": [],
   "source": [
    "import matplotlib.pyplot as plt\n",
    "import numpy as np"
   ]
  },
  {
   "cell_type": "markdown",
   "id": "86a7ddbd",
   "metadata": {},
   "source": [
    "Подготавливаем визуализацию"
   ]
  },
  {
   "cell_type": "code",
   "execution_count": 20,
   "id": "8de31659",
   "metadata": {},
   "outputs": [
    {
     "data": {
      "text/plain": [
       "numpy.ndarray"
      ]
     },
     "execution_count": 20,
     "metadata": {},
     "output_type": "execute_result"
    },
    {
     "data": {
      "image/png": "[encoded data removed]",
      "text/plain": [
       "<Figure size 432x288 with 24 Axes>"
      ]
     },
     "metadata": {
      "needs_background": "light"
     },
     "output_type": "display_data"
    }
   ],
   "source": [
    "figure, axes = plt.subplots(nrows=4, ncols=6, figsize=(6, 4))\n",
    "type(axes)"
   ]
  },
  {
   "cell_type": "markdown",
   "id": "9435c582",
   "metadata": {},
   "source": [
    "Визуализируем данные"
   ]
  },
  {
   "cell_type": "code",
   "execution_count": 21,
   "id": "f6445b72",
   "metadata": {},
   "outputs": [
    {
     "data": {
      "text/plain": [
       "<Figure size 432x288 with 0 Axes>"
      ]
     },
     "metadata": {},
     "output_type": "display_data"
    }
   ],
   "source": [
    "for item in zip(axes.ravel(), digits.images, digits.target):\n",
    "    axes, image, target = item\n",
    "    axes.imshow(image, cmap=plt.cm.gray_r)\n",
    "    axes.set_xticks([])\n",
    "    axes.set_yticks([]) \n",
    "    axes.set_title(target)\n",
    "plt.tight_layout()"
   ]
  },
  {
   "cell_type": "code",
   "execution_count": 23,
   "id": "9a7de642",
   "metadata": {},
   "outputs": [
    {
     "data": {
      "image/png": "[encoded data removed]",
      "text/plain": [
       "<Figure size 432x288 with 24 Axes>"
      ]
     },
     "execution_count": 23,
     "metadata": {},
     "output_type": "execute_result"
    }
   ],
   "source": [
    "figure"
   ]
  },
  {
   "cell_type": "markdown",
   "id": "2472d338",
   "metadata": {},
   "source": [
    "Делим выборку на обучающую и тестовую"
   ]
  },
  {
   "cell_type": "code",
   "execution_count": 24,
   "id": "d26d12fc",
   "metadata": {},
   "outputs": [],
   "source": [
    "from sklearn.model_selection import train_test_split"
   ]
  },
  {
   "cell_type": "code",
   "execution_count": 25,
   "id": "fce293e8",
   "metadata": {},
   "outputs": [],
   "source": [
    "X_train, X_test, y_train, y_test = train_test_split(digits.data, digits.target, random_state=11)"
   ]
  },
  {
   "cell_type": "code",
   "execution_count": 26,
   "id": "50c3d195",
   "metadata": {},
   "outputs": [
    {
     "data": {
      "text/plain": [
       "(1347, 64)"
      ]
     },
     "execution_count": 26,
     "metadata": {},
     "output_type": "execute_result"
    }
   ],
   "source": [
    "X_train.shape"
   ]
  },
  {
   "cell_type": "code",
   "execution_count": 27,
   "id": "a77164bc",
   "metadata": {},
   "outputs": [
    {
     "data": {
      "text/plain": [
       "(450, 64)"
      ]
     },
     "execution_count": 27,
     "metadata": {},
     "output_type": "execute_result"
    }
   ],
   "source": [
    "X_test.shape"
   ]
  },
  {
   "cell_type": "code",
   "execution_count": 29,
   "id": "f78b92e5",
   "metadata": {},
   "outputs": [],
   "source": [
    "X_train, X_test, y_train, y_test = train_test_split(digits.data, digits.target, random_state=11, test_size=0.20)"
   ]
  },
  {
   "cell_type": "markdown",
   "id": "2bbf8887",
   "metadata": {},
   "source": [
    "Импортируем классификатор на основе метода K-ближайших соседей"
   ]
  },
  {
   "cell_type": "code",
   "execution_count": 30,
   "id": "a459bc29",
   "metadata": {},
   "outputs": [],
   "source": [
    "from sklearn.neighbors import KNeighborsClassifier"
   ]
  },
  {
   "cell_type": "code",
   "execution_count": 31,
   "id": "fadf83fc",
   "metadata": {},
   "outputs": [],
   "source": [
    "knn = KNeighborsClassifier()"
   ]
  },
  {
   "cell_type": "markdown",
   "id": "d950db47",
   "metadata": {},
   "source": [
    "Обучаем классификатор"
   ]
  },
  {
   "cell_type": "code",
   "execution_count": 32,
   "id": "ac42d71e",
   "metadata": {},
   "outputs": [
    {
     "data": {
      "text/plain": [
       "KNeighborsClassifier()"
      ]
     },
     "execution_count": 32,
     "metadata": {},
     "output_type": "execute_result"
    }
   ],
   "source": [
    "knn.fit(X=X_train, y=y_train)"
   ]
  },
  {
   "cell_type": "markdown",
   "id": "4eeefa2f",
   "metadata": {},
   "source": [
    "Наблюдаем результаты модели на тестовой выборке при помощи различных методик"
   ]
  },
  {
   "cell_type": "code",
   "execution_count": 33,
   "id": "78537fdd",
   "metadata": {},
   "outputs": [],
   "source": [
    "predicted = knn.predict(X=X_test)"
   ]
  },
  {
   "cell_type": "code",
   "execution_count": 34,
   "id": "fb7b1d50",
   "metadata": {},
   "outputs": [],
   "source": [
    "expected = y_test"
   ]
  },
  {
   "cell_type": "code",
   "execution_count": 35,
   "id": "e4b3fea6",
   "metadata": {},
   "outputs": [
    {
     "data": {
      "text/plain": [
       "array([0, 4, 9, 9, 3, 1, 4, 1, 5, 0, 4, 9, 4, 1, 5, 3, 3, 8, 5, 6])"
      ]
     },
     "execution_count": 35,
     "metadata": {},
     "output_type": "execute_result"
    }
   ],
   "source": [
    "predicted[:20]"
   ]
  },
  {
   "cell_type": "code",
   "execution_count": 42,
   "id": "48e5858d",
   "metadata": {},
   "outputs": [
    {
     "data": {
      "text/plain": [
       "[(5, 3), (8, 9), (4, 9), (7, 3), (7, 4)]"
      ]
     },
     "execution_count": 42,
     "metadata": {},
     "output_type": "execute_result"
    }
   ],
   "source": [
    "wrong = [(p, e) for (p, e) in zip(predicted, expected) if p != e]\n",
    "wrong"
   ]
  },
  {
   "cell_type": "code",
   "execution_count": 43,
   "id": "1c67dfb6",
   "metadata": {},
   "outputs": [
    {
     "name": "stdout",
     "output_type": "stream",
     "text": [
      "98.61%\n"
     ]
    }
   ],
   "source": [
    "print(f'{knn.score(X_test, y_test):.2%}')"
   ]
  },
  {
   "cell_type": "code",
   "execution_count": 44,
   "id": "fdd78a04",
   "metadata": {},
   "outputs": [],
   "source": [
    "from sklearn.metrics import confusion_matrix"
   ]
  },
  {
   "cell_type": "code",
   "execution_count": 45,
   "id": "8221b569",
   "metadata": {},
   "outputs": [
    {
     "data": {
      "text/plain": [
       "array([[38,  0,  0,  0,  0,  0,  0,  0,  0,  0],\n",
       "       [ 0, 37,  0,  0,  0,  0,  0,  0,  0,  0],\n",
       "       [ 0,  0, 39,  0,  0,  0,  0,  0,  0,  0],\n",
       "       [ 0,  0,  0, 39,  0,  1,  0,  1,  0,  0],\n",
       "       [ 0,  0,  0,  0, 40,  0,  0,  1,  0,  0],\n",
       "       [ 0,  0,  0,  0,  0, 27,  0,  0,  0,  0],\n",
       "       [ 0,  0,  0,  0,  0,  0, 30,  0,  0,  0],\n",
       "       [ 0,  0,  0,  0,  0,  0,  0, 36,  0,  0],\n",
       "       [ 0,  0,  0,  0,  0,  0,  0,  0, 34,  0],\n",
       "       [ 0,  0,  0,  0,  1,  0,  0,  0,  1, 35]], dtype=int64)"
      ]
     },
     "execution_count": 45,
     "metadata": {},
     "output_type": "execute_result"
    }
   ],
   "source": [
    "confusion = confusion_matrix(y_true=expected, y_pred=predicted)\n",
    "confusion"
   ]
  },
  {
   "cell_type": "code",
   "execution_count": 46,
   "id": "3a569dcd",
   "metadata": {},
   "outputs": [],
   "source": [
    "from sklearn.metrics import classification_report"
   ]
  },
  {
   "cell_type": "code",
   "execution_count": 47,
   "id": "7225395d",
   "metadata": {},
   "outputs": [
    {
     "name": "stdout",
     "output_type": "stream",
     "text": [
      "              precision    recall  f1-score   support\n",
      "\n",
      "           0       1.00      1.00      1.00        38\n",
      "           1       1.00      1.00      1.00        37\n",
      "           2       1.00      1.00      1.00        39\n",
      "           3       1.00      0.95      0.97        41\n",
      "           4       0.98      0.98      0.98        41\n",
      "           5       0.96      1.00      0.98        27\n",
      "           6       1.00      1.00      1.00        30\n",
      "           7       0.95      1.00      0.97        36\n",
      "           8       0.97      1.00      0.99        34\n",
      "           9       1.00      0.95      0.97        37\n",
      "\n",
      "    accuracy                           0.99       360\n",
      "   macro avg       0.99      0.99      0.99       360\n",
      "weighted avg       0.99      0.99      0.99       360\n",
      "\n"
     ]
    }
   ],
   "source": [
    "names = [str(digit) for digit in digits.target_names]\n",
    "print(classification_report(expected, predicted, target_names=names))"
   ]
  },
  {
   "cell_type": "code",
   "execution_count": 50,
   "id": "90a524af",
   "metadata": {},
   "outputs": [],
   "source": [
    "import pandas as pd\n",
    "import seaborn as sns"
   ]
  },
  {
   "cell_type": "code",
   "execution_count": 49,
   "id": "6d4a1189",
   "metadata": {},
   "outputs": [],
   "source": [
    "confusion_df = pd.DataFrame(confusion, index=range(10), columns=range(10))"
   ]
  },
  {
   "cell_type": "code",
   "execution_count": 51,
   "id": "ed159572",
   "metadata": {},
   "outputs": [
    {
     "data": {
      "image/png": "[encoded data removed]",
      "text/plain": [
       "<Figure size 432x288 with 2 Axes>"
      ]
     },
     "metadata": {
      "needs_background": "light"
     },
     "output_type": "display_data"
    }
   ],
   "source": [
    "axes = sns.heatmap(confusion_df, annot=True, cmap='nipy_spectral_r')"
   ]
  },
  {
   "cell_type": "code",
   "execution_count": 52,
   "id": "d7a6145a",
   "metadata": {},
   "outputs": [],
   "source": [
    "from sklearn.model_selection import KFold"
   ]
  },
  {
   "cell_type": "code",
   "execution_count": 53,
   "id": "0365d42e",
   "metadata": {},
   "outputs": [],
   "source": [
    "kfold = KFold(n_splits=10, random_state=11, shuffle=True)"
   ]
  },
  {
   "cell_type": "code",
   "execution_count": 55,
   "id": "83af0cb9",
   "metadata": {},
   "outputs": [],
   "source": [
    "from sklearn.model_selection import cross_val_score"
   ]
  },
  {
   "cell_type": "code",
   "execution_count": 57,
   "id": "9746f9f9",
   "metadata": {},
   "outputs": [
    {
     "data": {
      "text/plain": [
       "array([0.97777778, 0.99444444, 0.98888889, 0.97777778, 0.98888889,\n",
       "       0.99444444, 0.97777778, 0.98882682, 1.        , 0.98882682])"
      ]
     },
     "execution_count": 57,
     "metadata": {},
     "output_type": "execute_result"
    }
   ],
   "source": [
    "scores = cross_val_score(estimator=knn, X=digits.data, y=digits.target, cv=kfold)\n",
    "scores"
   ]
  },
  {
   "cell_type": "code",
   "execution_count": 58,
   "id": "0a5f0ac9",
   "metadata": {},
   "outputs": [
    {
     "name": "stdout",
     "output_type": "stream",
     "text": [
      "Mean accuracy: 98.78%\n"
     ]
    }
   ],
   "source": [
    "print(f'Mean accuracy: {scores.mean():.2%}')"
   ]
  },
  {
   "cell_type": "code",
   "execution_count": 59,
   "id": "132f0798",
   "metadata": {},
   "outputs": [
    {
     "name": "stdout",
     "output_type": "stream",
     "text": [
      "Accuracy standard deviation: 0.74%\n"
     ]
    }
   ],
   "source": [
    "print(f'Accuracy standard deviation: {scores.std():.2%}')"
   ]
  },
  {
   "cell_type": "markdown",
   "id": "2b8e1af3",
   "metadata": {},
   "source": [
    "Сравниваем метод К-ближайших соседей с другими классификаторами"
   ]
  },
  {
   "cell_type": "code",
   "execution_count": 61,
   "id": "d858b924",
   "metadata": {},
   "outputs": [],
   "source": [
    "from sklearn.svm import SVC\n",
    "from sklearn.naive_bayes import GaussianNB"
   ]
  },
  {
   "cell_type": "code",
   "execution_count": 62,
   "id": "9c7457f3",
   "metadata": {},
   "outputs": [],
   "source": [
    "estimators = {'KNeighborsClassifier': knn,'SVC': SVC(gamma='scale'),'GaussianNB': GaussianNB()}"
   ]
  },
  {
   "cell_type": "code",
   "execution_count": 63,
   "id": "c0766c05",
   "metadata": {},
   "outputs": [
    {
     "name": "stdout",
     "output_type": "stream",
     "text": [
      "KNeighborsClassifier: mean accuracy=98.78%; standard deviation=0.74%\n",
      "                 SVC: mean accuracy=98.72%; standard deviation=0.79%\n",
      "          GaussianNB: mean accuracy=84.48%; standard deviation=3.47%\n"
     ]
    }
   ],
   "source": [
    "for estimator_name, estimator_object in estimators.items():\n",
    "    kfold = KFold(n_splits=10, random_state=11, shuffle=True)\n",
    "    scores = cross_val_score(estimator=estimator_object,\n",
    "    X=digits.data, y=digits.target, cv=kfold)\n",
    "    print(f'{estimator_name:>20}: ' + f'mean accuracy={scores.mean():.2%}; ' + f'standard deviation={scores.std():.2%}')"
   ]
  },
  {
   "cell_type": "markdown",
   "id": "0ecc9ad7",
   "metadata": {},
   "source": [
    "Наблюдаем изменение точности метода К-ближайших соседей в зависимости от параметра К"
   ]
  },
  {
   "cell_type": "code",
   "execution_count": 64,
   "id": "12105a71",
   "metadata": {},
   "outputs": [
    {
     "name": "stdout",
     "output_type": "stream",
     "text": [
      "k=1 ; mean accuracy=98.83%; standard deviation=0.58%\n",
      "k=3 ; mean accuracy=98.83%; standard deviation=0.72%\n",
      "k=5 ; mean accuracy=98.78%; standard deviation=0.74%\n",
      "k=7 ; mean accuracy=98.44%; standard deviation=0.96%\n",
      "k=9 ; mean accuracy=98.39%; standard deviation=0.80%\n",
      "k=11; mean accuracy=98.33%; standard deviation=0.90%\n",
      "k=13; mean accuracy=97.89%; standard deviation=0.89%\n",
      "k=15; mean accuracy=97.83%; standard deviation=0.95%\n",
      "k=17; mean accuracy=97.50%; standard deviation=1.00%\n",
      "k=19; mean accuracy=97.66%; standard deviation=0.96%\n"
     ]
    }
   ],
   "source": [
    "for k in range(1, 20, 2):\n",
    "    kfold = KFold(n_splits=10, random_state=11, shuffle=True)\n",
    "    knn = KNeighborsClassifier(n_neighbors=k)\n",
    "    scores = cross_val_score(estimator=knn,\n",
    "    X=digits.data, y=digits.target, cv=kfold)\n",
    "    print(f'k={k:<2}; mean accuracy={scores.mean():.2%}; ' + f'standard deviation={scores.std():.2%}')"
   ]
  }
 ],
 "metadata": {
  "kernelspec": {
   "display_name": "Python 3 (ipykernel)",
   "language": "python",
   "name": "python3"
  },
  "language_info": {
   "codemirror_mode": {
    "name": "ipython",
    "version": 3
   },
   "file_extension": ".py",
   "mimetype": "text/x-python",
   "name": "python",
   "nbconvert_exporter": "python",
   "pygments_lexer": "ipython3",
   "version": "3.9.7"
  }
 },
 "nbformat": 4,
 "nbformat_minor": 5
}
